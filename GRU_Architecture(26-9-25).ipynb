{
 "cells": [
  {
   "cell_type": "code",
   "execution_count": 1,
   "id": "cf084a9d-0d99-46bb-872f-881d39862ef8",
   "metadata": {},
   "outputs": [],
   "source": [
    "# GRU_Architecture"
   ]
  },
  {
   "cell_type": "code",
   "execution_count": 2,
   "id": "6d0c363f-a6ea-4aa3-a739-329bbc4f12fe",
   "metadata": {},
   "outputs": [],
   "source": [
    "# Step 1: Load IWDB dataset\n",
    "from tensorflow.keras.datasets import imdb\n",
    "from tensorflow.keras.preprocessing import sequence\n",
    "from tensorflow.keras.models import Sequential\n",
    "from tensorflow.keras.layers import Embedding, GRU, Dense\n",
    "\n",
    "max_features = 10000 # number of words to consider\n",
    "max_len = 200 # max words per review\n",
    "(x_train, y_train), (x_test, y_test) = imdb.load_data(num_words=max_features)\n",
    "\n",
    "# Pad sequences\n",
    "x_train = sequence.pad_sequences(x_train, maxlen=max_len)\n",
    "x_test = sequence.pad_sequences(x_test, maxlen=max_len) #pad_sequences to have equal no of sequence"
   ]
  },
  {
   "cell_type": "code",
   "execution_count": 3,
   "id": "8d7f8588-a5af-4866-bcb5-39a71faf58d6",
   "metadata": {},
   "outputs": [],
   "source": [
    "#Step 2: Build GRU model\n",
    "model = Sequential()\n",
    "model.add(Embedding(max_features, 128))  # word embeddings\n",
    "model.add(GRU(128, dropout=0.2, recurrent_dropout=0.2))  # GRU layer # remove bias\n",
    "model.add(Dense(1, activation='sigmoid'))  # 1 Output"
   ]
  },
  {
   "cell_type": "code",
   "execution_count": 4,
   "id": "becc1c52-28d3-4fdd-9109-c1111f772b41",
   "metadata": {},
   "outputs": [],
   "source": [
    "#Step 3: Compile\n",
    "model.compile(loss='binary_crossentropy',\n",
    "              optimizer='adam',\n",
    "              metrics=['accuracy'])"
   ]
  },
  {
   "cell_type": "code",
   "execution_count": 5,
   "id": "88997ac3-e244-454c-ba93-945b88ecc7f7",
   "metadata": {},
   "outputs": [
    {
     "name": "stdout",
     "output_type": "stream",
     "text": [
      "Epoch 1/3\n",
      "\u001b[1m782/782\u001b[0m \u001b[32m━━━━━━━━━━━━━━━━━━━━\u001b[0m\u001b[37m\u001b[0m \u001b[1m275s\u001b[0m 345ms/step - accuracy: 0.7505 - loss: 0.4953 - val_accuracy: 0.8496 - val_loss: 0.3594\n",
      "Epoch 2/3\n",
      "\u001b[1m782/782\u001b[0m \u001b[32m━━━━━━━━━━━━━━━━━━━━\u001b[0m\u001b[37m\u001b[0m \u001b[1m314s\u001b[0m 335ms/step - accuracy: 0.8866 - loss: 0.2818 - val_accuracy: 0.8828 - val_loss: 0.2761\n",
      "Epoch 3/3\n",
      "\u001b[1m782/782\u001b[0m \u001b[32m━━━━━━━━━━━━━━━━━━━━\u001b[0m\u001b[37m\u001b[0m \u001b[1m268s\u001b[0m 343ms/step - accuracy: 0.9338 - loss: 0.1756 - val_accuracy: 0.8802 - val_loss: 0.2945\n"
     ]
    },
    {
     "data": {
      "text/plain": [
       "<keras.src.callbacks.history.History at 0x23388bcbc50>"
      ]
     },
     "execution_count": 5,
     "metadata": {},
     "output_type": "execute_result"
    }
   ],
   "source": [
    "#Step 4: Train\n",
    "model.fit(x_train, y_train,\n",
    "          batch_size=32,\n",
    "          epochs=3,\n",
    "          validation_data=(x_test, y_test))"
   ]
  },
  {
   "cell_type": "code",
   "execution_count": 6,
   "id": "1210c534-8a38-4833-9709-ab251c403687",
   "metadata": {},
   "outputs": [
    {
     "name": "stdout",
     "output_type": "stream",
     "text": [
      "\u001b[1m782/782\u001b[0m \u001b[32m━━━━━━━━━━━━━━━━━━━━\u001b[0m\u001b[37m\u001b[0m \u001b[1m39s\u001b[0m 49ms/step - accuracy: 0.8802 - loss: 0.2945\n",
      "Test Accuracy: 0.8801599740982056\n"
     ]
    }
   ],
   "source": [
    "#Step 5: Evaluate\n",
    "loss, acc = model.evaluate(x_test, y_test)\n",
    "print(\"Test Accuracy:\", acc)"
   ]
  },
  {
   "cell_type": "code",
   "execution_count": null,
   "id": "a804b4ac-b2fc-4891-9400-761044adbdc6",
   "metadata": {},
   "outputs": [],
   "source": []
  }
 ],
 "metadata": {
  "kernelspec": {
   "display_name": "Python 3 (ipykernel)",
   "language": "python",
   "name": "python3"
  },
  "language_info": {
   "codemirror_mode": {
    "name": "ipython",
    "version": 3
   },
   "file_extension": ".py",
   "mimetype": "text/x-python",
   "name": "python",
   "nbconvert_exporter": "python",
   "pygments_lexer": "ipython3",
   "version": "3.12.7"
  }
 },
 "nbformat": 4,
 "nbformat_minor": 5
}
