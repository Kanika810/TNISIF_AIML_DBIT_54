{
 "cells": [
  {
   "cell_type": "code",
   "execution_count": 10,
   "id": "e6db5548-38f0-4b2b-a0b6-b211c6592367",
   "metadata": {},
   "outputs": [],
   "source": [
    "# Apriori Algorithm\n",
    "import pandas as pd\n",
    "from mlxtend.preprocessing import TransactionEncoder\n",
    "from mlxtend.frequent_patterns import apriori, association_rules\n",
    "# mlxtend : Machine Learning Extensions\n",
    "#TransactionEncoder : Converting transaction data into a format suitable for analysis"
   ]
  },
  {
   "cell_type": "code",
   "execution_count": 11,
   "id": "e326cc0e-26d7-4267-bfa2-3d920209aed2",
   "metadata": {},
   "outputs": [
    {
     "name": "stdout",
     "output_type": "stream",
     "text": [
      "Transaction DataFrame:\n",
      "   coffee  donut  muffin  sandwich\n",
      "0    True   True   False      True\n",
      "1    True   True   False     False\n",
      "2    True  False   False      True\n",
      "3    True  False    True     False\n",
      "4   False   True    True     False\n",
      "\n",
      "Frequent Itemsets:\n",
      "   support            itemsets\n",
      "0      0.8            (coffee)\n",
      "1      0.6             (donut)\n",
      "2      0.4            (muffin)\n",
      "3      0.4          (sandwich)\n",
      "4      0.4     (donut, coffee)\n",
      "5      0.4  (sandwich, coffee)\n",
      "\n",
      "Association Rules:\n",
      "  antecedents consequents  support  confidence      lift\n",
      "0     (donut)    (coffee)      0.4    0.666667  0.833333\n",
      "1  (sandwich)    (coffee)      0.4    1.000000  1.250000\n"
     ]
    }
   ],
   "source": [
    "dataset = [\n",
    "    ['coffee','donut','sandwich'],\n",
    "    ['coffee','donut'],\n",
    "    ['coffee','sandwich'],\n",
    "    ['coffee','muffin'],\n",
    "    ['donut','muffin']\n",
    "]\n",
    "\n",
    "te = TransactionEncoder()\n",
    "te_ary = te.fit(dataset).transform(dataset)\n",
    "df = pd.DataFrame(te_ary, columns=te.columns_)\n",
    "print(\"Transaction DataFrame:\")\n",
    "print(df)\n",
    "\n",
    "frequent_itemsets = apriori(df, min_support=0.4, use_colnames=True)\n",
    "print(\"\\nFrequent Itemsets:\")\n",
    "print(frequent_itemsets)\n",
    "\n",
    "rules = association_rules(frequent_itemsets, metric=\"confidence\", min_threshold=0.6)\n",
    "\n",
    "print(\"\\nAssociation Rules:\")\n",
    "print(rules[['antecedents', 'consequents', 'support', 'confidence', 'lift']])"
   ]
  },
  {
   "cell_type": "code",
   "execution_count": null,
   "id": "70a889a5-9141-436b-9327-1bd6c2b3fa0b",
   "metadata": {},
   "outputs": [],
   "source": []
  }
 ],
 "metadata": {
  "kernelspec": {
   "display_name": "Python 3 (ipykernel)",
   "language": "python",
   "name": "python3"
  },
  "language_info": {
   "codemirror_mode": {
    "name": "ipython",
    "version": 3
   },
   "file_extension": ".py",
   "mimetype": "text/x-python",
   "name": "python",
   "nbconvert_exporter": "python",
   "pygments_lexer": "ipython3",
   "version": "3.12.7"
  }
 },
 "nbformat": 4,
 "nbformat_minor": 5
}
