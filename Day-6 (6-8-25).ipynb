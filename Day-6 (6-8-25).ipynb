{
 "cells": [
  {
   "cell_type": "code",
   "execution_count": 2,
   "id": "dc47c890-d32f-40f9-afce-dcd595811064",
   "metadata": {},
   "outputs": [],
   "source": [
    "# Day-6 (6-8-25)\n",
    "\n",
    "# numpy - numerical computaion , ndimensional,vectorization,linera algebra, random numbers\n",
    "# applicatin : ML ,image processing,computaion, finance\n",
    "\n",
    "# pandas - data manupulation , data frames ,missing data , time series\n",
    "# application : data cleaning , exploratory data analysis "
   ]
  },
  {
   "cell_type": "code",
   "execution_count": null,
   "id": "4a63c1a2-2ec5-457b-b5c9-752d35189cd6",
   "metadata": {},
   "outputs": [],
   "source": [
    "# Indexing and Slicing \n",
    "\n",
    "print(arr3[1, 2])  # Second row, third column\n",
    "What happens?:\n",
    "-- Accesses the element at row index 1, column index 2 in arr3.\n",
    "-- Output: 6 (from the 3x4 array shown earlier).\n",
    "\n",
    "print(arr3[:, 1:3])  # All rows, columns 1-2\n",
    "What happens?:\n",
    "-- : this will selects all rows.\n",
    "-- 1:3 selects columns at indices 1 and 2 (Python slices are upper bound exclusive)."
   ]
  },
  {
   "cell_type": "code",
   "execution_count": null,
   "id": "a6542851-0895-423a-9466-cb60c712910e",
   "metadata": {},
   "outputs": [],
   "source": []
  },
  {
   "cell_type": "code",
   "execution_count": 4,
   "id": "f0227203-e8d6-4b85-a92c-33ce335e7aa0",
   "metadata": {},
   "outputs": [
    {
     "name": "stdout",
     "output_type": "stream",
     "text": [
      "[ 2  4  6  8 10]\n",
      "[ 2  4  6  8 10]\n",
      "[[ 0  1  2  3]\n",
      " [ 4  5  6  7]\n",
      " [ 8  9 10 11]]\n",
      "[[19 22]\n",
      " [43 50]]\n",
      "Mean: 0.03566325451120318, Std: 1.013734754973375\n"
     ]
    }
   ],
   "source": [
    "import numpy as np\n",
    "\n",
    "# Creating arrays\n",
    "arr1 = np.array([1, 2, 3, 4, 5])          # 1D array\n",
    "arr2 = np.array([[1, 2, 3], [4, 5, 6]])   # 2D array\n",
    "\n",
    "# Array operations (vectorization)\n",
    "print(arr1 * 2)         # Multiply each element by 2\n",
    "print(arr1 + arr1)      # Add arrays element-wise\n",
    "\n",
    "# Reshaping\n",
    "arr3 = np.arange(12).reshape(3, 4)        # Create 3x4 array from 0 to11\n",
    "print(arr3)\n",
    "\n",
    "# Matrix operations\n",
    "matrix1 = np.array([[1, 2], [3, 4]])\n",
    "matrix2 = np.array([[5, 6], [7, 8]])\n",
    "print(np.dot(matrix1, matrix2))          # Matrix multiplication\n",
    "\n",
    "# Statistical operations\n",
    "data = np.random.normal(0, 1, 1000)       # 1000 random numbers from normal distribution\n",
    "print(f\"Mean: {data.mean()}, Std: {data.std()}\")"
   ]
  },
  {
   "cell_type": "code",
   "execution_count": 5,
   "id": "95a9d3a2-8236-4956-bf99-5f5951aa7dae",
   "metadata": {},
   "outputs": [
    {
     "name": "stdout",
     "output_type": "stream",
     "text": [
      "      Name  Age  Salary\n",
      "0    Alice   25   50000\n",
      "1      Bob   30   60000\n",
      "2  Charlie   35   70000\n",
      "3    David   40   80000\n"
     ]
    }
   ],
   "source": [
    "import pandas as pd\n",
    "import numpy as np\n",
    "\n",
    "# Creating DataFrames\n",
    "data = {\n",
    "    'Name': ['Alice', 'Bob', 'Charlie', 'David'],\n",
    "    'Age': [25, 30, 35, 40],\n",
    "    'Salary': [50000, 60000, 70000, 80000]\n",
    "}\n",
    "\n",
    "df = pd.DataFrame(data)\n",
    "print(df)"
   ]
  },
  {
   "cell_type": "code",
   "execution_count": 40,
   "id": "173655eb-fc1c-4abe-89fa-c30824ba9ed7",
   "metadata": {},
   "outputs": [],
   "source": [
    "# to reading from CSV\n",
    "# df = pd.read_csv('data.csv')"
   ]
  },
  {
   "cell_type": "code",
   "execution_count": 9,
   "id": "bc22c9c7-dfeb-4b9f-9971-7ad8570594f9",
   "metadata": {},
   "outputs": [
    {
     "name": "stdout",
     "output_type": "stream",
     "text": [
      "    Name  Age  Salary\n",
      "0  Alice   25   50000\n",
      "1    Bob   30   60000\n"
     ]
    }
   ],
   "source": [
    "# Basic operations\n",
    "print(df.head(2))             # First 2 rows"
   ]
  },
  {
   "cell_type": "code",
   "execution_count": 10,
   "id": "158a9e77-952e-4337-8c55-eefa6f4137d6",
   "metadata": {},
   "outputs": [
    {
     "name": "stdout",
     "output_type": "stream",
     "text": [
      "             Age        Salary\n",
      "count   4.000000      4.000000\n",
      "mean   32.500000  65000.000000\n",
      "std     6.454972  12909.944487\n",
      "min    25.000000  50000.000000\n",
      "25%    28.750000  57500.000000\n",
      "50%    32.500000  65000.000000\n",
      "75%    36.250000  72500.000000\n",
      "max    40.000000  80000.000000\n"
     ]
    }
   ],
   "source": [
    "print(df.describe())          # Summary statistics"
   ]
  },
  {
   "cell_type": "code",
   "execution_count": 11,
   "id": "e99a17f9-e0d6-4779-9640-166a365cf0db",
   "metadata": {},
   "outputs": [
    {
     "name": "stdout",
     "output_type": "stream",
     "text": [
      "32.5\n"
     ]
    }
   ],
   "source": [
    "print(df['Age'].mean())       # Average age"
   ]
  },
  {
   "cell_type": "code",
   "execution_count": 13,
   "id": "97836ca1-b201-463b-ad0b-ea67c664540c",
   "metadata": {},
   "outputs": [
    {
     "name": "stdout",
     "output_type": "stream",
     "text": [
      "      Name  Age  Salary\n",
      "2  Charlie   35   70000\n",
      "3    David   40   80000\n"
     ]
    }
   ],
   "source": [
    "# Data selection\n",
    "print(df[df['Age'] > 30])     # Filtering"
   ]
  },
  {
   "cell_type": "code",
   "execution_count": 14,
   "id": "934fae44-44d4-488d-881e-54ce2a425db4",
   "metadata": {},
   "outputs": [
    {
     "name": "stdout",
     "output_type": "stream",
     "text": [
      "      Name  Salary\n",
      "1      Bob   60000\n",
      "2  Charlie   70000\n"
     ]
    }
   ],
   "source": [
    "print(df.loc[1:2, ['Name', 'Salary']])  # Selection by label"
   ]
  },
  {
   "cell_type": "code",
   "execution_count": 17,
   "id": "57d788ea-2c36-4dec-afa5-243652b5263e",
   "metadata": {},
   "outputs": [
    {
     "name": "stdout",
     "output_type": "stream",
     "text": [
      "     A    B\n",
      "0  1.0  5.0\n",
      "1  2.0  0.0\n",
      "2  0.0  0.0\n",
      "3  4.0  8.0\n"
     ]
    }
   ],
   "source": [
    "# Handling missing data\n",
    "df_with_nan = pd.DataFrame({\n",
    "    'A': [1, 2, np.nan, 4],\n",
    "    'B': [5, np.nan, np.nan, 8]\n",
    "})\n",
    "\n",
    "print(df_with_nan.fillna(value=0))   # Replace NaN with 0"
   ]
  },
  {
   "cell_type": "code",
   "execution_count": 18,
   "id": "ef1b84d3-c879-44a5-bb05-c9cce66c2cba",
   "metadata": {},
   "outputs": [
    {
     "name": "stdout",
     "output_type": "stream",
     "text": [
      "     A    B\n",
      "0  1.0  5.0\n",
      "3  4.0  8.0\n"
     ]
    }
   ],
   "source": [
    "print(df_with_nan.dropna())         # Drop rows with NaN"
   ]
  },
  {
   "cell_type": "code",
   "execution_count": 23,
   "id": "200ae9d7-1efd-4433-be63-4e0491d19332",
   "metadata": {},
   "outputs": [],
   "source": [
    "# Grouping and aggregation\n",
    "df['Department'] = ['HR', 'Tech', 'Tech', 'HR']"
   ]
  },
  {
   "cell_type": "code",
   "execution_count": 29,
   "id": "69390518-c543-49cb-94b8-c5a842adb194",
   "metadata": {},
   "outputs": [
    {
     "name": "stdout",
     "output_type": "stream",
     "text": [
      "      Name  Age  Salary Department\n",
      "0    Alice   25   50000         HR\n",
      "1      Bob   30   60000       Tech\n",
      "2  Charlie   35   70000       Tech\n",
      "3    David   40   80000         HR\n"
     ]
    }
   ],
   "source": [
    "print(df)"
   ]
  },
  {
   "cell_type": "code",
   "execution_count": 34,
   "id": "80d9d1f2-46c9-4adc-a758-91e7588b2b5c",
   "metadata": {},
   "outputs": [
    {
     "name": "stdout",
     "output_type": "stream",
     "text": [
      "             Age   Salary\n",
      "Department               \n",
      "HR          32.5  65000.0\n",
      "Tech        32.5  65000.0\n"
     ]
    }
   ],
   "source": [
    "print(df.groupby('Department')[['Age', 'Salary']].mean())"
   ]
  },
  {
   "cell_type": "code",
   "execution_count": 35,
   "id": "060013f6-1b07-49c9-b278-5f5d5300747b",
   "metadata": {},
   "outputs": [
    {
     "name": "stdout",
     "output_type": "stream",
     "text": [
      "      Name  Age  Salary Department   Bonus\n",
      "0    Alice   25   50000         HR  2000.0\n",
      "1      Bob   30   60000       Tech  1500.0\n",
      "2  Charlie   35   70000       Tech     NaN\n",
      "3    David   40   80000         HR     NaN\n"
     ]
    }
   ],
   "source": [
    "# Merging DataFrames (like SQL joins)\n",
    "df2 = pd.DataFrame({\n",
    "    'Name': ['Alice', 'Bob', 'Eve'],\n",
    "    'Bonus': [2000, 1500, 3000]\n",
    "})\n",
    "print(pd.merge(df, df2, on='Name', how='left'))  # Left join"
   ]
  },
  {
   "cell_type": "code",
   "execution_count": 39,
   "id": "12f4d21f-8ca9-49c9-aded-bfaed89b6f15",
   "metadata": {},
   "outputs": [
    {
     "name": "stdout",
     "output_type": "stream",
     "text": [
      "                value\n",
      "date                 \n",
      "2023-01-01  37.000000\n",
      "2023-01-04  67.333333\n",
      "2023-01-07  45.333333\n",
      "2023-01-10  66.000000\n"
     ]
    }
   ],
   "source": [
    "# Time series functionality\n",
    "date_rng = pd.date_range(start='1/1/2023', end='1/10/2023', freq='D')\n",
    "ts = pd.DataFrame(date_rng, columns=['date'])\n",
    "ts['value'] = np.random.randint(0, 100, size=(len(date_rng)))\n",
    "ts.set_index('date', inplace=True)\n",
    "print(ts.resample('3D').mean())  # Resample to 3-day periods"
   ]
  },
  {
   "cell_type": "code",
   "execution_count": null,
   "id": "2ef4d6b5-da1e-4fed-b1bb-ef816948fee8",
   "metadata": {},
   "outputs": [],
   "source": []
  }
 ],
 "metadata": {
  "kernelspec": {
   "display_name": "Python 3 (ipykernel)",
   "language": "python",
   "name": "python3"
  },
  "language_info": {
   "codemirror_mode": {
    "name": "ipython",
    "version": 3
   },
   "file_extension": ".py",
   "mimetype": "text/x-python",
   "name": "python",
   "nbconvert_exporter": "python",
   "pygments_lexer": "ipython3",
   "version": "3.12.7"
  }
 },
 "nbformat": 4,
 "nbformat_minor": 5
}
