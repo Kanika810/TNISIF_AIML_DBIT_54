{
 "cells": [
  {
   "cell_type": "code",
   "execution_count": 2,
   "id": "579e5614-8262-42e3-bad5-3a4bbc92f864",
   "metadata": {},
   "outputs": [
    {
     "name": "stdout",
     "output_type": "stream",
     "text": [
      "Epoch 0 | D Loss: 1.2977 | G Loss: 0.7529\n",
      "Epoch 100 | D Loss: 10.0443 | G Loss: 0.0131\n",
      "Epoch 200 | D Loss: 10.6360 | G Loss: 0.0066\n",
      "Epoch 300 | D Loss: 10.8902 | G Loss: 0.0044\n",
      "Epoch 400 | D Loss: 11.0668 | G Loss: 0.0033\n",
      "Epoch 500 | D Loss: 11.2046 | G Loss: 0.0027\n",
      "Epoch 600 | D Loss: 11.3290 | G Loss: 0.0022\n",
      "Epoch 700 | D Loss: 11.4417 | G Loss: 0.0019\n",
      "Epoch 800 | D Loss: 11.5431 | G Loss: 0.0017\n",
      "Epoch 900 | D Loss: 11.6392 | G Loss: 0.0015\n"
     ]
    }
   ],
   "source": [
    "import numpy as np\n",
    "import tensorflow as tf\n",
    "from tensorflow.keras import layers\n",
    "import warnings\n",
    "warnings.filterwarnings('ignore', category=UserWarning)\n",
    "\n",
    "# Step 1: Load and preprocess MNIST data\n",
    "(x_train, _), (_, _) = tf.keras.datasets.mnist.load_data()\n",
    "x_train = x_train.reshape(-1, 28*28).astype(\"float32\")\n",
    "x_train = (x_train - 127.5) / 127.5  # scale to [-1, 1]\n",
    "\n",
    "# Step 2: Build Generator\n",
    "# Input: random noise → Output: fake image\n",
    "def make_generator():\n",
    "    model = tf.keras.Sequential()\n",
    "    model.add(layers.Dense(128, activation=\"relu\", input_dim=100))\n",
    "    model.add(layers.Dense(784, activation=\"tanh\"))  # 28*28 pixels\n",
    "    return model\n",
    "\n",
    "# Step 3: Build Discriminator\n",
    "# Input: image → Output: real (1) or fake (0)\n",
    "def make_discriminator():\n",
    "    model = tf.keras.Sequential()\n",
    "    model.add(layers.Dense(128, activation=\"relu\", input_dim=784))\n",
    "    model.add(layers.Dense(1, activation=\"sigmoid\"))\n",
    "    model.compile(loss=\"binary_crossentropy\", optimizer=\"adam\", metrics=[\"accuracy\"])\n",
    "    return model\n",
    "\n",
    "# Step 4: Combine into GAN (Generator + Discriminator)\n",
    "generator = make_generator()\n",
    "discriminator = make_discriminator()\n",
    "\n",
    "discriminator.trainable = False  # Freeze while training GAN\n",
    "gan_input = tf.keras.Input(shape=(100,))\n",
    "fake_image = generator(gan_input)\n",
    "gan_output = discriminator(fake_image)\n",
    "gan = tf.keras.Model(gan_input, gan_output)\n",
    "gan.compile(loss=\"binary_crossentropy\", optimizer=\"adam\")\n",
    "\n",
    "# Step 5: Training Loop\n",
    "epochs = 1000\n",
    "batch_size = 128\n",
    "\n",
    "for epoch in range(epochs):\n",
    "    # --- Train Discriminator ---\n",
    "    # Get real images\n",
    "    idx = np.random.randint(0, x_train.shape[0], batch_size)\n",
    "    real_imgs = x_train[idx]\n",
    "    \n",
    "    # Generate fake images\n",
    "    noise = np.random.normal(0, 1, (batch_size, 100))\n",
    "    fake_imgs = generator.predict(noise, verbose=0)\n",
    "    \n",
    "    # Train on real and fake\n",
    "    d_loss_real = discriminator.train_on_batch(real_imgs, np.ones((batch_size, 1)))\n",
    "    d_loss_fake = discriminator.train_on_batch(fake_imgs, np.zeros((batch_size, 1)))\n",
    "    \n",
    "    # --- Train Generator ---\n",
    "    noise = np.random.normal(0, 1, (batch_size, 100))\n",
    "    g_loss = gan.train_on_batch(noise, np.ones((batch_size, 1)))\n",
    "    \n",
    "    # Print progress\n",
    "    if epoch % 100 == 0:\n",
    "        print(f\"Epoch {epoch} | D Loss: {d_loss_real[0]+d_loss_fake[0]:.4f} | G Loss: {g_loss:.4f}\")"
   ]
  },
  {
   "cell_type": "code",
   "execution_count": null,
   "id": "86ea1e13-e8d1-4928-b3f1-edd48825b03c",
   "metadata": {},
   "outputs": [],
   "source": []
  }
 ],
 "metadata": {
  "kernelspec": {
   "display_name": "Python 3 (ipykernel)",
   "language": "python",
   "name": "python3"
  },
  "language_info": {
   "codemirror_mode": {
    "name": "ipython",
    "version": 3
   },
   "file_extension": ".py",
   "mimetype": "text/x-python",
   "name": "python",
   "nbconvert_exporter": "python",
   "pygments_lexer": "ipython3",
   "version": "3.12.7"
  }
 },
 "nbformat": 4,
 "nbformat_minor": 5
}
