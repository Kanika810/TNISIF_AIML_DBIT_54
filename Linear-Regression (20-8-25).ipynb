{
 "cells": [
  {
   "cell_type": "code",
   "execution_count": 1,
   "id": "044919ee-de28-48dc-89e8-4756926e84da",
   "metadata": {},
   "outputs": [
    {
     "data": {
      "text/html": [
       "<div>\n",
       "<style scoped>\n",
       "    .dataframe tbody tr th:only-of-type {\n",
       "        vertical-align: middle;\n",
       "    }\n",
       "\n",
       "    .dataframe tbody tr th {\n",
       "        vertical-align: top;\n",
       "    }\n",
       "\n",
       "    .dataframe thead th {\n",
       "        text-align: right;\n",
       "    }\n",
       "</style>\n",
       "<table border=\"1\" class=\"dataframe\">\n",
       "  <thead>\n",
       "    <tr style=\"text-align: right;\">\n",
       "      <th></th>\n",
       "      <th>date</th>\n",
       "      <th>open</th>\n",
       "      <th>high</th>\n",
       "      <th>low</th>\n",
       "      <th>close</th>\n",
       "      <th>adj_close</th>\n",
       "      <th>volume</th>\n",
       "    </tr>\n",
       "  </thead>\n",
       "  <tbody>\n",
       "    <tr>\n",
       "      <th>0</th>\n",
       "      <td>2004-11-18</td>\n",
       "      <td>44.380001</td>\n",
       "      <td>44.380001</td>\n",
       "      <td>44.490002</td>\n",
       "      <td>44.070000</td>\n",
       "      <td>44.430000</td>\n",
       "      <td>5992000</td>\n",
       "    </tr>\n",
       "    <tr>\n",
       "      <th>1</th>\n",
       "      <td>2004-11-19</td>\n",
       "      <td>44.779999</td>\n",
       "      <td>44.779999</td>\n",
       "      <td>44.919998</td>\n",
       "      <td>44.470001</td>\n",
       "      <td>44.490002</td>\n",
       "      <td>11655300</td>\n",
       "    </tr>\n",
       "    <tr>\n",
       "      <th>2</th>\n",
       "      <td>2004-11-22</td>\n",
       "      <td>44.950001</td>\n",
       "      <td>44.950001</td>\n",
       "      <td>44.970001</td>\n",
       "      <td>44.740002</td>\n",
       "      <td>44.750000</td>\n",
       "      <td>11996000</td>\n",
       "    </tr>\n",
       "    <tr>\n",
       "      <th>3</th>\n",
       "      <td>2004-11-23</td>\n",
       "      <td>44.750000</td>\n",
       "      <td>44.750000</td>\n",
       "      <td>44.919998</td>\n",
       "      <td>44.720001</td>\n",
       "      <td>44.880001</td>\n",
       "      <td>3169200</td>\n",
       "    </tr>\n",
       "    <tr>\n",
       "      <th>4</th>\n",
       "      <td>2004-11-24</td>\n",
       "      <td>45.049999</td>\n",
       "      <td>45.049999</td>\n",
       "      <td>45.049999</td>\n",
       "      <td>44.790001</td>\n",
       "      <td>44.930000</td>\n",
       "      <td>6105100</td>\n",
       "    </tr>\n",
       "  </tbody>\n",
       "</table>\n",
       "</div>"
      ],
      "text/plain": [
       "         date       open       high        low      close  adj_close    volume\n",
       "0  2004-11-18  44.380001  44.380001  44.490002  44.070000  44.430000   5992000\n",
       "1  2004-11-19  44.779999  44.779999  44.919998  44.470001  44.490002  11655300\n",
       "2  2004-11-22  44.950001  44.950001  44.970001  44.740002  44.750000  11996000\n",
       "3  2004-11-23  44.750000  44.750000  44.919998  44.720001  44.880001   3169200\n",
       "4  2004-11-24  45.049999  45.049999  45.049999  44.790001  44.930000   6105100"
      ]
     },
     "execution_count": 1,
     "metadata": {},
     "output_type": "execute_result"
    }
   ],
   "source": [
    "#1 Load the dataset and display its shape, column names, and first 5 rows.\n",
    "import pandas as pd \n",
    "import numpy as np\n",
    "import matplotlib.pyplot as plt\n",
    "\n",
    "df = pd.read_csv(r\"C:\\Users\\HP\\OneDrive\\Desktop\\Capgemini - Mitsubishi\\gold_price_data.csv\")\n",
    "df.head()"
   ]
  },
  {
   "cell_type": "code",
   "execution_count": 2,
   "id": "1db43c39-3424-4ba1-a3e8-527f7aa8cd81",
   "metadata": {},
   "outputs": [
    {
     "data": {
      "text/plain": [
       "(5215, 7)"
      ]
     },
     "execution_count": 2,
     "metadata": {},
     "output_type": "execute_result"
    }
   ],
   "source": [
    "df.shape"
   ]
  },
  {
   "cell_type": "code",
   "execution_count": 3,
   "id": "29e9870e-2b44-4090-aa84-61e6518deefe",
   "metadata": {},
   "outputs": [
    {
     "data": {
      "text/plain": [
       "Index(['date', 'open', 'high', 'low', 'close', 'adj_close', 'volume'], dtype='object')"
      ]
     },
     "execution_count": 3,
     "metadata": {},
     "output_type": "execute_result"
    }
   ],
   "source": [
    "df.columns"
   ]
  },
  {
   "cell_type": "code",
   "execution_count": 4,
   "id": "588853c5-a02c-4e51-923a-a71a968fd241",
   "metadata": {},
   "outputs": [
    {
     "data": {
      "text/html": [
       "<div>\n",
       "<style scoped>\n",
       "    .dataframe tbody tr th:only-of-type {\n",
       "        vertical-align: middle;\n",
       "    }\n",
       "\n",
       "    .dataframe tbody tr th {\n",
       "        vertical-align: top;\n",
       "    }\n",
       "\n",
       "    .dataframe thead th {\n",
       "        text-align: right;\n",
       "    }\n",
       "</style>\n",
       "<table border=\"1\" class=\"dataframe\">\n",
       "  <thead>\n",
       "    <tr style=\"text-align: right;\">\n",
       "      <th></th>\n",
       "      <th>date</th>\n",
       "      <th>open</th>\n",
       "      <th>high</th>\n",
       "      <th>low</th>\n",
       "      <th>close</th>\n",
       "      <th>adj_close</th>\n",
       "      <th>volume</th>\n",
       "    </tr>\n",
       "  </thead>\n",
       "  <tbody>\n",
       "    <tr>\n",
       "      <th>0</th>\n",
       "      <td>2004-11-18</td>\n",
       "      <td>44.380001</td>\n",
       "      <td>44.380001</td>\n",
       "      <td>44.490002</td>\n",
       "      <td>44.070000</td>\n",
       "      <td>44.430000</td>\n",
       "      <td>5992000</td>\n",
       "    </tr>\n",
       "    <tr>\n",
       "      <th>1</th>\n",
       "      <td>2004-11-19</td>\n",
       "      <td>44.779999</td>\n",
       "      <td>44.779999</td>\n",
       "      <td>44.919998</td>\n",
       "      <td>44.470001</td>\n",
       "      <td>44.490002</td>\n",
       "      <td>11655300</td>\n",
       "    </tr>\n",
       "    <tr>\n",
       "      <th>2</th>\n",
       "      <td>2004-11-22</td>\n",
       "      <td>44.950001</td>\n",
       "      <td>44.950001</td>\n",
       "      <td>44.970001</td>\n",
       "      <td>44.740002</td>\n",
       "      <td>44.750000</td>\n",
       "      <td>11996000</td>\n",
       "    </tr>\n",
       "    <tr>\n",
       "      <th>3</th>\n",
       "      <td>2004-11-23</td>\n",
       "      <td>44.750000</td>\n",
       "      <td>44.750000</td>\n",
       "      <td>44.919998</td>\n",
       "      <td>44.720001</td>\n",
       "      <td>44.880001</td>\n",
       "      <td>3169200</td>\n",
       "    </tr>\n",
       "    <tr>\n",
       "      <th>4</th>\n",
       "      <td>2004-11-24</td>\n",
       "      <td>45.049999</td>\n",
       "      <td>45.049999</td>\n",
       "      <td>45.049999</td>\n",
       "      <td>44.790001</td>\n",
       "      <td>44.930000</td>\n",
       "      <td>6105100</td>\n",
       "    </tr>\n",
       "  </tbody>\n",
       "</table>\n",
       "</div>"
      ],
      "text/plain": [
       "         date       open       high        low      close  adj_close    volume\n",
       "0  2004-11-18  44.380001  44.380001  44.490002  44.070000  44.430000   5992000\n",
       "1  2004-11-19  44.779999  44.779999  44.919998  44.470001  44.490002  11655300\n",
       "2  2004-11-22  44.950001  44.950001  44.970001  44.740002  44.750000  11996000\n",
       "3  2004-11-23  44.750000  44.750000  44.919998  44.720001  44.880001   3169200\n",
       "4  2004-11-24  45.049999  45.049999  45.049999  44.790001  44.930000   6105100"
      ]
     },
     "execution_count": 4,
     "metadata": {},
     "output_type": "execute_result"
    }
   ],
   "source": [
    "df.head(5)"
   ]
  },
  {
   "cell_type": "code",
   "execution_count": 5,
   "id": "fecfafa7-b8d1-4b60-b895-7a41ccb854c1",
   "metadata": {},
   "outputs": [
    {
     "data": {
      "text/html": [
       "<div>\n",
       "<style scoped>\n",
       "    .dataframe tbody tr th:only-of-type {\n",
       "        vertical-align: middle;\n",
       "    }\n",
       "\n",
       "    .dataframe tbody tr th {\n",
       "        vertical-align: top;\n",
       "    }\n",
       "\n",
       "    .dataframe thead th {\n",
       "        text-align: right;\n",
       "    }\n",
       "</style>\n",
       "<table border=\"1\" class=\"dataframe\">\n",
       "  <thead>\n",
       "    <tr style=\"text-align: right;\">\n",
       "      <th></th>\n",
       "      <th>date</th>\n",
       "      <th>open</th>\n",
       "      <th>high</th>\n",
       "      <th>low</th>\n",
       "      <th>close</th>\n",
       "      <th>adj_close</th>\n",
       "      <th>volume</th>\n",
       "    </tr>\n",
       "  </thead>\n",
       "  <tbody>\n",
       "    <tr>\n",
       "      <th>0</th>\n",
       "      <td>False</td>\n",
       "      <td>False</td>\n",
       "      <td>False</td>\n",
       "      <td>False</td>\n",
       "      <td>False</td>\n",
       "      <td>False</td>\n",
       "      <td>False</td>\n",
       "    </tr>\n",
       "    <tr>\n",
       "      <th>1</th>\n",
       "      <td>False</td>\n",
       "      <td>False</td>\n",
       "      <td>False</td>\n",
       "      <td>False</td>\n",
       "      <td>False</td>\n",
       "      <td>False</td>\n",
       "      <td>False</td>\n",
       "    </tr>\n",
       "    <tr>\n",
       "      <th>2</th>\n",
       "      <td>False</td>\n",
       "      <td>False</td>\n",
       "      <td>False</td>\n",
       "      <td>False</td>\n",
       "      <td>False</td>\n",
       "      <td>False</td>\n",
       "      <td>False</td>\n",
       "    </tr>\n",
       "    <tr>\n",
       "      <th>3</th>\n",
       "      <td>False</td>\n",
       "      <td>False</td>\n",
       "      <td>False</td>\n",
       "      <td>False</td>\n",
       "      <td>False</td>\n",
       "      <td>False</td>\n",
       "      <td>False</td>\n",
       "    </tr>\n",
       "    <tr>\n",
       "      <th>4</th>\n",
       "      <td>False</td>\n",
       "      <td>False</td>\n",
       "      <td>False</td>\n",
       "      <td>False</td>\n",
       "      <td>False</td>\n",
       "      <td>False</td>\n",
       "      <td>False</td>\n",
       "    </tr>\n",
       "    <tr>\n",
       "      <th>...</th>\n",
       "      <td>...</td>\n",
       "      <td>...</td>\n",
       "      <td>...</td>\n",
       "      <td>...</td>\n",
       "      <td>...</td>\n",
       "      <td>...</td>\n",
       "      <td>...</td>\n",
       "    </tr>\n",
       "    <tr>\n",
       "      <th>5210</th>\n",
       "      <td>False</td>\n",
       "      <td>False</td>\n",
       "      <td>False</td>\n",
       "      <td>False</td>\n",
       "      <td>False</td>\n",
       "      <td>False</td>\n",
       "      <td>False</td>\n",
       "    </tr>\n",
       "    <tr>\n",
       "      <th>5211</th>\n",
       "      <td>False</td>\n",
       "      <td>False</td>\n",
       "      <td>False</td>\n",
       "      <td>False</td>\n",
       "      <td>False</td>\n",
       "      <td>False</td>\n",
       "      <td>False</td>\n",
       "    </tr>\n",
       "    <tr>\n",
       "      <th>5212</th>\n",
       "      <td>False</td>\n",
       "      <td>False</td>\n",
       "      <td>False</td>\n",
       "      <td>False</td>\n",
       "      <td>False</td>\n",
       "      <td>False</td>\n",
       "      <td>False</td>\n",
       "    </tr>\n",
       "    <tr>\n",
       "      <th>5213</th>\n",
       "      <td>False</td>\n",
       "      <td>False</td>\n",
       "      <td>False</td>\n",
       "      <td>False</td>\n",
       "      <td>False</td>\n",
       "      <td>False</td>\n",
       "      <td>False</td>\n",
       "    </tr>\n",
       "    <tr>\n",
       "      <th>5214</th>\n",
       "      <td>False</td>\n",
       "      <td>False</td>\n",
       "      <td>False</td>\n",
       "      <td>False</td>\n",
       "      <td>False</td>\n",
       "      <td>False</td>\n",
       "      <td>False</td>\n",
       "    </tr>\n",
       "  </tbody>\n",
       "</table>\n",
       "<p>5215 rows × 7 columns</p>\n",
       "</div>"
      ],
      "text/plain": [
       "       date   open   high    low  close  adj_close  volume\n",
       "0     False  False  False  False  False      False   False\n",
       "1     False  False  False  False  False      False   False\n",
       "2     False  False  False  False  False      False   False\n",
       "3     False  False  False  False  False      False   False\n",
       "4     False  False  False  False  False      False   False\n",
       "...     ...    ...    ...    ...    ...        ...     ...\n",
       "5210  False  False  False  False  False      False   False\n",
       "5211  False  False  False  False  False      False   False\n",
       "5212  False  False  False  False  False      False   False\n",
       "5213  False  False  False  False  False      False   False\n",
       "5214  False  False  False  False  False      False   False\n",
       "\n",
       "[5215 rows x 7 columns]"
      ]
     },
     "execution_count": 5,
     "metadata": {},
     "output_type": "execute_result"
    }
   ],
   "source": [
    "#2 Check for missing values and duplicates. Clean the dataset if necessary.\n",
    "df.isnull()"
   ]
  },
  {
   "cell_type": "code",
   "execution_count": 6,
   "id": "6f5d0aab-a70d-4131-a5c2-e01a96c68db1",
   "metadata": {},
   "outputs": [
    {
     "data": {
      "text/plain": [
       "date         0\n",
       "open         0\n",
       "high         0\n",
       "low          0\n",
       "close        0\n",
       "adj_close    0\n",
       "volume       0\n",
       "dtype: int64"
      ]
     },
     "execution_count": 6,
     "metadata": {},
     "output_type": "execute_result"
    }
   ],
   "source": [
    "df.isnull().sum()"
   ]
  },
  {
   "cell_type": "code",
   "execution_count": 7,
   "id": "aed13ba8-6044-4759-8b86-2f7b1c3c10f5",
   "metadata": {},
   "outputs": [
    {
     "data": {
      "text/plain": [
       "0       False\n",
       "1       False\n",
       "2       False\n",
       "3       False\n",
       "4       False\n",
       "        ...  \n",
       "5210    False\n",
       "5211    False\n",
       "5212    False\n",
       "5213    False\n",
       "5214    False\n",
       "Length: 5215, dtype: bool"
      ]
     },
     "execution_count": 7,
     "metadata": {},
     "output_type": "execute_result"
    }
   ],
   "source": [
    "df.duplicated()"
   ]
  },
  {
   "cell_type": "code",
   "execution_count": 8,
   "id": "c9d5e8c8-63bd-498e-82d6-4f5d3c8b3425",
   "metadata": {},
   "outputs": [
    {
     "data": {
      "text/plain": [
       "0"
      ]
     },
     "execution_count": 8,
     "metadata": {},
     "output_type": "execute_result"
    }
   ],
   "source": [
    "df.duplicated().sum()"
   ]
  },
  {
   "cell_type": "code",
   "execution_count": 9,
   "id": "587d9601-8dd7-4791-b5e1-7a4cccabf9b0",
   "metadata": {},
   "outputs": [
    {
     "name": "stdout",
     "output_type": "stream",
     "text": [
      "<class 'pandas.core.frame.DataFrame'>\n",
      "RangeIndex: 5215 entries, 0 to 5214\n",
      "Data columns (total 7 columns):\n",
      " #   Column     Non-Null Count  Dtype  \n",
      "---  ------     --------------  -----  \n",
      " 0   date       5215 non-null   object \n",
      " 1   open       5215 non-null   float64\n",
      " 2   high       5215 non-null   float64\n",
      " 3   low        5215 non-null   float64\n",
      " 4   close      5215 non-null   float64\n",
      " 5   adj_close  5215 non-null   float64\n",
      " 6   volume     5215 non-null   int64  \n",
      "dtypes: float64(5), int64(1), object(1)\n",
      "memory usage: 285.3+ KB\n"
     ]
    }
   ],
   "source": [
    "#3 Perform exploratory data analysis (EDA): show descriptive statistics and visualize distributions of key features.\n",
    "df.info()"
   ]
  },
  {
   "cell_type": "code",
   "execution_count": 10,
   "id": "c316f65c-3a13-4311-8427-3465a0a4b338",
   "metadata": {},
   "outputs": [
    {
     "data": {
      "text/html": [
       "<div>\n",
       "<style scoped>\n",
       "    .dataframe tbody tr th:only-of-type {\n",
       "        vertical-align: middle;\n",
       "    }\n",
       "\n",
       "    .dataframe tbody tr th {\n",
       "        vertical-align: top;\n",
       "    }\n",
       "\n",
       "    .dataframe thead th {\n",
       "        text-align: right;\n",
       "    }\n",
       "</style>\n",
       "<table border=\"1\" class=\"dataframe\">\n",
       "  <thead>\n",
       "    <tr style=\"text-align: right;\">\n",
       "      <th></th>\n",
       "      <th>open</th>\n",
       "      <th>high</th>\n",
       "      <th>low</th>\n",
       "      <th>close</th>\n",
       "      <th>adj_close</th>\n",
       "      <th>volume</th>\n",
       "    </tr>\n",
       "  </thead>\n",
       "  <tbody>\n",
       "    <tr>\n",
       "      <th>count</th>\n",
       "      <td>5215.000000</td>\n",
       "      <td>5215.000000</td>\n",
       "      <td>5215.000000</td>\n",
       "      <td>5215.000000</td>\n",
       "      <td>5215.000000</td>\n",
       "      <td>5.215000e+03</td>\n",
       "    </tr>\n",
       "    <tr>\n",
       "      <th>mean</th>\n",
       "      <td>131.940968</td>\n",
       "      <td>131.940968</td>\n",
       "      <td>132.570993</td>\n",
       "      <td>131.256556</td>\n",
       "      <td>131.939183</td>\n",
       "      <td>9.423568e+06</td>\n",
       "    </tr>\n",
       "    <tr>\n",
       "      <th>std</th>\n",
       "      <td>51.291094</td>\n",
       "      <td>51.291094</td>\n",
       "      <td>51.459284</td>\n",
       "      <td>51.073175</td>\n",
       "      <td>51.282084</td>\n",
       "      <td>6.645282e+06</td>\n",
       "    </tr>\n",
       "    <tr>\n",
       "      <th>min</th>\n",
       "      <td>41.259998</td>\n",
       "      <td>41.259998</td>\n",
       "      <td>41.360001</td>\n",
       "      <td>41.020000</td>\n",
       "      <td>41.029999</td>\n",
       "      <td>3.193000e+05</td>\n",
       "    </tr>\n",
       "    <tr>\n",
       "      <th>25%</th>\n",
       "      <td>104.730000</td>\n",
       "      <td>104.730000</td>\n",
       "      <td>105.355000</td>\n",
       "      <td>104.160000</td>\n",
       "      <td>104.754997</td>\n",
       "      <td>5.305150e+06</td>\n",
       "    </tr>\n",
       "    <tr>\n",
       "      <th>50%</th>\n",
       "      <td>124.400002</td>\n",
       "      <td>124.400002</td>\n",
       "      <td>124.870003</td>\n",
       "      <td>123.980003</td>\n",
       "      <td>124.459999</td>\n",
       "      <td>7.818800e+06</td>\n",
       "    </tr>\n",
       "    <tr>\n",
       "      <th>75%</th>\n",
       "      <td>164.779999</td>\n",
       "      <td>164.779999</td>\n",
       "      <td>165.489998</td>\n",
       "      <td>164.004997</td>\n",
       "      <td>164.544998</td>\n",
       "      <td>1.154915e+07</td>\n",
       "    </tr>\n",
       "    <tr>\n",
       "      <th>max</th>\n",
       "      <td>316.290009</td>\n",
       "      <td>316.290009</td>\n",
       "      <td>317.630005</td>\n",
       "      <td>315.040009</td>\n",
       "      <td>317.489990</td>\n",
       "      <td>9.380420e+07</td>\n",
       "    </tr>\n",
       "  </tbody>\n",
       "</table>\n",
       "</div>"
      ],
      "text/plain": [
       "              open         high          low        close    adj_close  \\\n",
       "count  5215.000000  5215.000000  5215.000000  5215.000000  5215.000000   \n",
       "mean    131.940968   131.940968   132.570993   131.256556   131.939183   \n",
       "std      51.291094    51.291094    51.459284    51.073175    51.282084   \n",
       "min      41.259998    41.259998    41.360001    41.020000    41.029999   \n",
       "25%     104.730000   104.730000   105.355000   104.160000   104.754997   \n",
       "50%     124.400002   124.400002   124.870003   123.980003   124.459999   \n",
       "75%     164.779999   164.779999   165.489998   164.004997   164.544998   \n",
       "max     316.290009   316.290009   317.630005   315.040009   317.489990   \n",
       "\n",
       "             volume  \n",
       "count  5.215000e+03  \n",
       "mean   9.423568e+06  \n",
       "std    6.645282e+06  \n",
       "min    3.193000e+05  \n",
       "25%    5.305150e+06  \n",
       "50%    7.818800e+06  \n",
       "75%    1.154915e+07  \n",
       "max    9.380420e+07  "
      ]
     },
     "execution_count": 10,
     "metadata": {},
     "output_type": "execute_result"
    }
   ],
   "source": [
    "df.describe()"
   ]
  },
  {
   "cell_type": "code",
   "execution_count": 11,
   "id": "78ae3978-960b-4cec-8723-382a99bec53b",
   "metadata": {},
   "outputs": [
    {
     "data": {
      "text/plain": [
       "close\n",
       "122.029999    6\n",
       "121.730003    6\n",
       "120.769997    6\n",
       "121.550003    5\n",
       "116.580002    5\n",
       "             ..\n",
       "155.679993    1\n",
       "156.720001    1\n",
       "156.600006    1\n",
       "156.690002    1\n",
       "306.709991    1\n",
       "Name: count, Length: 4220, dtype: int64"
      ]
     },
     "execution_count": 11,
     "metadata": {},
     "output_type": "execute_result"
    }
   ],
   "source": [
    "df['close'].value_counts()"
   ]
  },
  {
   "cell_type": "code",
   "execution_count": 12,
   "id": "fb518d86-b861-4d79-b746-ba3424cbc951",
   "metadata": {},
   "outputs": [
    {
     "data": {
      "image/png": "[encoded data removed]",
      "text/plain": [
       "<Figure size 1200x800 with 6 Axes>"
      ]
     },
     "metadata": {},
     "output_type": "display_data"
    }
   ],
   "source": [
    "df[['open', 'high', 'low', 'close', 'adj_close', 'volume']].hist(bins=50, figsize=(12,8))\n",
    "plt.show()"
   ]
  },
  {
   "cell_type": "code",
   "execution_count": 13,
   "id": "f7eb327b-8d38-44f8-a2b4-3c5b131c9f2f",
   "metadata": {},
   "outputs": [
    {
     "data": {
      "image/png": "[encoded data removed]",
      "text/plain": [
       "<Figure size 1000x800 with 2 Axes>"
      ]
     },
     "metadata": {},
     "output_type": "display_data"
    }
   ],
   "source": [
    "#4 Create a correlation heatmap to identify which features are highly correlated with the target variable (Gold Price).\n",
    "import seaborn as sns\n",
    "corr_matrix = df[['open', 'high', 'low', 'close', 'adj_close', 'volume']].corr()\n",
    "numeric_df = df.select_dtypes(include=['float64','int64'])\n",
    "plt.figure(figsize=(10,8))\n",
    "sns.heatmap(numeric_df.corr(), annot=True, cmap=\"coolwarm\", fmt=\".2f\")\n",
    "plt.title(\" Heatmap \")\n",
    "plt.show()"
   ]
  },
  {
   "cell_type": "code",
   "execution_count": 14,
   "id": "ea2d5a2e-1389-4de4-834d-c7a81d2d21be",
   "metadata": {},
   "outputs": [
    {
     "name": "stdout",
     "output_type": "stream",
     "text": [
      "            date        open        high         low   adj_close    volume\n",
      "0     2004-11-18   44.380001   44.380001   44.490002   44.430000   5992000\n",
      "1     2004-11-19   44.779999   44.779999   44.919998   44.490002  11655300\n",
      "2     2004-11-22   44.950001   44.950001   44.970001   44.750000  11996000\n",
      "3     2004-11-23   44.750000   44.750000   44.919998   44.880001   3169200\n",
      "4     2004-11-24   45.049999   45.049999   45.049999   44.930000   6105100\n",
      "...          ...         ...         ...         ...         ...       ...\n",
      "5210  2025-08-06  310.500000  310.500000  311.239990  310.320007   7418200\n",
      "5211  2025-08-07  313.119995  313.119995  313.140015  311.720001  10891500\n",
      "5212  2025-08-08  313.049988  313.049988  313.529999  312.350006  19886800\n",
      "5213  2025-08-11  308.549988  308.549988  309.660004  308.619995  10326700\n",
      "5214  2025-08-12  308.269989  308.269989  309.309998  308.220001   9697400\n",
      "\n",
      "[5215 rows x 6 columns]\n"
     ]
    }
   ],
   "source": [
    "#5 Select independent variables (e.g., Open, High, Low, Volume) and target variable (Close/Price).\n",
    "X=df.iloc[:,[0,1,2,3,5,6]]\n",
    "print(X)"
   ]
  },
  {
   "cell_type": "code",
   "execution_count": 15,
   "id": "0f2ae1a8-4587-4515-9d55-fde5e5613e54",
   "metadata": {},
   "outputs": [
    {
     "name": "stdout",
     "output_type": "stream",
     "text": [
      "           close\n",
      "0      44.070000\n",
      "1      44.470001\n",
      "2      44.740002\n",
      "3      44.720001\n",
      "4      44.790001\n",
      "...          ...\n",
      "5210  309.839996\n",
      "5211  310.700012\n",
      "5212  311.000000\n",
      "5213  307.630005\n",
      "5214  306.709991\n",
      "\n",
      "[5215 rows x 1 columns]\n"
     ]
    }
   ],
   "source": [
    "y=df.iloc[:,[4]]\n",
    "print(y)"
   ]
  },
  {
   "cell_type": "code",
   "execution_count": 16,
   "id": "839adcae-205e-4f88-8ef8-7a2660c1b9f7",
   "metadata": {},
   "outputs": [],
   "source": [
    "#6 Split the dataset into training (80%) and testing (20%) sets.\n",
    "from sklearn.model_selection import train_test_split\n",
    "X_train,X_test,y_train,y_test=train_test_split(X,y,test_size=0.20,random_state=42)"
   ]
  },
  {
   "cell_type": "code",
   "execution_count": 17,
   "id": "82135179-58a6-4969-b83f-ab7cc32c6b06",
   "metadata": {},
   "outputs": [
    {
     "data": {
      "text/html": [
       "<div>\n",
       "<style scoped>\n",
       "    .dataframe tbody tr th:only-of-type {\n",
       "        vertical-align: middle;\n",
       "    }\n",
       "\n",
       "    .dataframe tbody tr th {\n",
       "        vertical-align: top;\n",
       "    }\n",
       "\n",
       "    .dataframe thead th {\n",
       "        text-align: right;\n",
       "    }\n",
       "</style>\n",
       "<table border=\"1\" class=\"dataframe\">\n",
       "  <thead>\n",
       "    <tr style=\"text-align: right;\">\n",
       "      <th></th>\n",
       "      <th>date</th>\n",
       "      <th>open</th>\n",
       "      <th>high</th>\n",
       "      <th>low</th>\n",
       "      <th>adj_close</th>\n",
       "      <th>volume</th>\n",
       "    </tr>\n",
       "  </thead>\n",
       "  <tbody>\n",
       "    <tr>\n",
       "      <th>2173</th>\n",
       "      <td>2013-07-10</td>\n",
       "      <td>120.949997</td>\n",
       "      <td>120.949997</td>\n",
       "      <td>122.349998</td>\n",
       "      <td>121.150002</td>\n",
       "      <td>14697100</td>\n",
       "    </tr>\n",
       "    <tr>\n",
       "      <th>927</th>\n",
       "      <td>2008-07-28</td>\n",
       "      <td>91.730003</td>\n",
       "      <td>91.730003</td>\n",
       "      <td>92.000000</td>\n",
       "      <td>91.389999</td>\n",
       "      <td>8809600</td>\n",
       "    </tr>\n",
       "    <tr>\n",
       "      <th>2499</th>\n",
       "      <td>2014-10-23</td>\n",
       "      <td>118.519997</td>\n",
       "      <td>118.519997</td>\n",
       "      <td>118.820000</td>\n",
       "      <td>118.709999</td>\n",
       "      <td>6417500</td>\n",
       "    </tr>\n",
       "    <tr>\n",
       "      <th>45</th>\n",
       "      <td>2005-01-25</td>\n",
       "      <td>42.240002</td>\n",
       "      <td>42.240002</td>\n",
       "      <td>42.560001</td>\n",
       "      <td>42.529999</td>\n",
       "      <td>1332500</td>\n",
       "    </tr>\n",
       "    <tr>\n",
       "      <th>1741</th>\n",
       "      <td>2011-10-18</td>\n",
       "      <td>161.839996</td>\n",
       "      <td>161.839996</td>\n",
       "      <td>162.029999</td>\n",
       "      <td>159.960007</td>\n",
       "      <td>15390800</td>\n",
       "    </tr>\n",
       "    <tr>\n",
       "      <th>...</th>\n",
       "      <td>...</td>\n",
       "      <td>...</td>\n",
       "      <td>...</td>\n",
       "      <td>...</td>\n",
       "      <td>...</td>\n",
       "      <td>...</td>\n",
       "    </tr>\n",
       "    <tr>\n",
       "      <th>466</th>\n",
       "      <td>2006-09-26</td>\n",
       "      <td>58.740002</td>\n",
       "      <td>58.740002</td>\n",
       "      <td>58.970001</td>\n",
       "      <td>58.500000</td>\n",
       "      <td>2763400</td>\n",
       "    </tr>\n",
       "    <tr>\n",
       "      <th>3092</th>\n",
       "      <td>2017-03-03</td>\n",
       "      <td>117.510002</td>\n",
       "      <td>117.510002</td>\n",
       "      <td>117.730003</td>\n",
       "      <td>116.949997</td>\n",
       "      <td>10665800</td>\n",
       "    </tr>\n",
       "    <tr>\n",
       "      <th>3772</th>\n",
       "      <td>2019-11-13</td>\n",
       "      <td>137.979996</td>\n",
       "      <td>137.979996</td>\n",
       "      <td>138.220001</td>\n",
       "      <td>137.800003</td>\n",
       "      <td>8776000</td>\n",
       "    </tr>\n",
       "    <tr>\n",
       "      <th>5191</th>\n",
       "      <td>2025-07-10</td>\n",
       "      <td>306.200012</td>\n",
       "      <td>306.200012</td>\n",
       "      <td>306.510010</td>\n",
       "      <td>306.109985</td>\n",
       "      <td>7053700</td>\n",
       "    </tr>\n",
       "    <tr>\n",
       "      <th>860</th>\n",
       "      <td>2008-04-22</td>\n",
       "      <td>90.269997</td>\n",
       "      <td>90.269997</td>\n",
       "      <td>91.349998</td>\n",
       "      <td>90.419998</td>\n",
       "      <td>14043600</td>\n",
       "    </tr>\n",
       "  </tbody>\n",
       "</table>\n",
       "<p>4172 rows × 6 columns</p>\n",
       "</div>"
      ],
      "text/plain": [
       "            date        open        high         low   adj_close    volume\n",
       "2173  2013-07-10  120.949997  120.949997  122.349998  121.150002  14697100\n",
       "927   2008-07-28   91.730003   91.730003   92.000000   91.389999   8809600\n",
       "2499  2014-10-23  118.519997  118.519997  118.820000  118.709999   6417500\n",
       "45    2005-01-25   42.240002   42.240002   42.560001   42.529999   1332500\n",
       "1741  2011-10-18  161.839996  161.839996  162.029999  159.960007  15390800\n",
       "...          ...         ...         ...         ...         ...       ...\n",
       "466   2006-09-26   58.740002   58.740002   58.970001   58.500000   2763400\n",
       "3092  2017-03-03  117.510002  117.510002  117.730003  116.949997  10665800\n",
       "3772  2019-11-13  137.979996  137.979996  138.220001  137.800003   8776000\n",
       "5191  2025-07-10  306.200012  306.200012  306.510010  306.109985   7053700\n",
       "860   2008-04-22   90.269997   90.269997   91.349998   90.419998  14043600\n",
       "\n",
       "[4172 rows x 6 columns]"
      ]
     },
     "execution_count": 17,
     "metadata": {},
     "output_type": "execute_result"
    }
   ],
   "source": [
    "X_train"
   ]
  },
  {
   "cell_type": "code",
   "execution_count": 18,
   "id": "f7a5377a-a2cd-4ddf-b25e-d73d387b3fc7",
   "metadata": {},
   "outputs": [
    {
     "data": {
      "text/html": [
       "<div>\n",
       "<style scoped>\n",
       "    .dataframe tbody tr th:only-of-type {\n",
       "        vertical-align: middle;\n",
       "    }\n",
       "\n",
       "    .dataframe tbody tr th {\n",
       "        vertical-align: top;\n",
       "    }\n",
       "\n",
       "    .dataframe thead th {\n",
       "        text-align: right;\n",
       "    }\n",
       "</style>\n",
       "<table border=\"1\" class=\"dataframe\">\n",
       "  <thead>\n",
       "    <tr style=\"text-align: right;\">\n",
       "      <th></th>\n",
       "      <th>close</th>\n",
       "    </tr>\n",
       "  </thead>\n",
       "  <tbody>\n",
       "    <tr>\n",
       "      <th>1897</th>\n",
       "      <td>154.869995</td>\n",
       "    </tr>\n",
       "    <tr>\n",
       "      <th>877</th>\n",
       "      <td>86.230003</td>\n",
       "    </tr>\n",
       "    <tr>\n",
       "      <th>4431</th>\n",
       "      <td>169.509995</td>\n",
       "    </tr>\n",
       "    <tr>\n",
       "      <th>4724</th>\n",
       "      <td>177.509995</td>\n",
       "    </tr>\n",
       "    <tr>\n",
       "      <th>1595</th>\n",
       "      <td>138.669998</td>\n",
       "    </tr>\n",
       "    <tr>\n",
       "      <th>...</th>\n",
       "      <td>...</td>\n",
       "    </tr>\n",
       "    <tr>\n",
       "      <th>1867</th>\n",
       "      <td>159.020004</td>\n",
       "    </tr>\n",
       "    <tr>\n",
       "      <th>2727</th>\n",
       "      <td>108.330002</td>\n",
       "    </tr>\n",
       "    <tr>\n",
       "      <th>841</th>\n",
       "      <td>93.059998</td>\n",
       "    </tr>\n",
       "    <tr>\n",
       "      <th>1893</th>\n",
       "      <td>151.630005</td>\n",
       "    </tr>\n",
       "    <tr>\n",
       "      <th>175</th>\n",
       "      <td>42.990002</td>\n",
       "    </tr>\n",
       "  </tbody>\n",
       "</table>\n",
       "<p>1043 rows × 1 columns</p>\n",
       "</div>"
      ],
      "text/plain": [
       "           close\n",
       "1897  154.869995\n",
       "877    86.230003\n",
       "4431  169.509995\n",
       "4724  177.509995\n",
       "1595  138.669998\n",
       "...          ...\n",
       "1867  159.020004\n",
       "2727  108.330002\n",
       "841    93.059998\n",
       "1893  151.630005\n",
       "175    42.990002\n",
       "\n",
       "[1043 rows x 1 columns]"
      ]
     },
     "execution_count": 18,
     "metadata": {},
     "output_type": "execute_result"
    }
   ],
   "source": [
    "y_test"
   ]
  },
  {
   "cell_type": "code",
   "execution_count": 19,
   "id": "ccb857f3-cffb-4ea5-a841-c76e8e0cc913",
   "metadata": {},
   "outputs": [
    {
     "data": {
      "text/html": [
       "<div>\n",
       "<style scoped>\n",
       "    .dataframe tbody tr th:only-of-type {\n",
       "        vertical-align: middle;\n",
       "    }\n",
       "\n",
       "    .dataframe tbody tr th {\n",
       "        vertical-align: top;\n",
       "    }\n",
       "\n",
       "    .dataframe thead th {\n",
       "        text-align: right;\n",
       "    }\n",
       "</style>\n",
       "<table border=\"1\" class=\"dataframe\">\n",
       "  <thead>\n",
       "    <tr style=\"text-align: right;\">\n",
       "      <th></th>\n",
       "      <th>date</th>\n",
       "      <th>open</th>\n",
       "      <th>high</th>\n",
       "      <th>low</th>\n",
       "      <th>close</th>\n",
       "      <th>adj_close</th>\n",
       "      <th>volume</th>\n",
       "    </tr>\n",
       "  </thead>\n",
       "  <tbody>\n",
       "    <tr>\n",
       "      <th>0</th>\n",
       "      <td>2004-11-18</td>\n",
       "      <td>44.380001</td>\n",
       "      <td>44.380001</td>\n",
       "      <td>44.490002</td>\n",
       "      <td>44.070000</td>\n",
       "      <td>44.430000</td>\n",
       "      <td>5992000</td>\n",
       "    </tr>\n",
       "    <tr>\n",
       "      <th>1</th>\n",
       "      <td>2004-11-19</td>\n",
       "      <td>44.779999</td>\n",
       "      <td>44.779999</td>\n",
       "      <td>44.919998</td>\n",
       "      <td>44.470001</td>\n",
       "      <td>44.490002</td>\n",
       "      <td>11655300</td>\n",
       "    </tr>\n",
       "    <tr>\n",
       "      <th>2</th>\n",
       "      <td>2004-11-22</td>\n",
       "      <td>44.950001</td>\n",
       "      <td>44.950001</td>\n",
       "      <td>44.970001</td>\n",
       "      <td>44.740002</td>\n",
       "      <td>44.750000</td>\n",
       "      <td>11996000</td>\n",
       "    </tr>\n",
       "    <tr>\n",
       "      <th>3</th>\n",
       "      <td>2004-11-23</td>\n",
       "      <td>44.750000</td>\n",
       "      <td>44.750000</td>\n",
       "      <td>44.919998</td>\n",
       "      <td>44.720001</td>\n",
       "      <td>44.880001</td>\n",
       "      <td>3169200</td>\n",
       "    </tr>\n",
       "    <tr>\n",
       "      <th>4</th>\n",
       "      <td>2004-11-24</td>\n",
       "      <td>45.049999</td>\n",
       "      <td>45.049999</td>\n",
       "      <td>45.049999</td>\n",
       "      <td>44.790001</td>\n",
       "      <td>44.930000</td>\n",
       "      <td>6105100</td>\n",
       "    </tr>\n",
       "  </tbody>\n",
       "</table>\n",
       "</div>"
      ],
      "text/plain": [
       "         date       open       high        low      close  adj_close    volume\n",
       "0  2004-11-18  44.380001  44.380001  44.490002  44.070000  44.430000   5992000\n",
       "1  2004-11-19  44.779999  44.779999  44.919998  44.470001  44.490002  11655300\n",
       "2  2004-11-22  44.950001  44.950001  44.970001  44.740002  44.750000  11996000\n",
       "3  2004-11-23  44.750000  44.750000  44.919998  44.720001  44.880001   3169200\n",
       "4  2004-11-24  45.049999  45.049999  45.049999  44.790001  44.930000   6105100"
      ]
     },
     "execution_count": 19,
     "metadata": {},
     "output_type": "execute_result"
    }
   ],
   "source": [
    "df.head()"
   ]
  },
  {
   "cell_type": "code",
   "execution_count": 20,
   "id": "5bbddd96-3b38-4088-a120-3821b3029c04",
   "metadata": {},
   "outputs": [],
   "source": [
    "# 7 Train a Linear Regression model on the training set.\n",
    "from sklearn.linear_model import LinearRegression\n",
    "from sklearn.metrics import mean_squared_error, r2_score\n",
    "\n",
    "if 'date' in df.columns:\n",
    "    df = df.drop(columns=['date'])\n",
    "\n",
    "\n",
    "X = df.drop(columns=['close'])   \n",
    "y = df['close']\n",
    "\n",
    "X_train, X_test, y_train, y_test = train_test_split(\n",
    "    X, y, test_size=0.2, random_state=42\n",
    ")\n",
    "\n",
    "model = LinearRegression()\n",
    "model.fit(X_train, y_train)\n",
    "\n",
    "y_pred = model.predict(X_test)"
   ]
  },
  {
   "cell_type": "code",
   "execution_count": 21,
   "id": "5b3e2a0d-1907-42b2-a6f0-f5ecd9cdfd12",
   "metadata": {},
   "outputs": [
    {
     "name": "stdout",
     "output_type": "stream",
     "text": [
      "Mean Squared Error (MSE): 0.1350977651823367\n",
      "Root Mean Squared Error (RMSE): 0.3675564789013203\n",
      "R² Score: 0.999949367933169\n",
      "Intercept(m): 0.1486442789949649\n",
      "Coefficients: [ 3.61825663e-01  3.61825664e-01 -3.52034977e-01  6.25809341e-01\n",
      " -2.88318859e-08]\n"
     ]
    }
   ],
   "source": [
    "#8 Evaluate the model using Mean Squared Error (MSE), Root Mean Squared Error (RMSE), and R² score on the test set.\n",
    "\n",
    "mse = mean_squared_error(y_test, y_pred)\n",
    "rmse = np.sqrt(mse)\n",
    "r2 = r2_score(y_test, y_pred)\n",
    "\n",
    "print(\"Mean Squared Error (MSE):\", mse)\n",
    "print(\"Root Mean Squared Error (RMSE):\", rmse)\n",
    "print(\"R² Score:\", r2)\n",
    "\n",
    "print(\"Intercept(m):\", model.intercept_)\n",
    "print(\"Coefficients:\", model.coef_)"
   ]
  },
  {
   "cell_type": "code",
   "execution_count": null,
   "id": "ec221bf3-b948-43a7-8c62-c0d72b3c510f",
   "metadata": {},
   "outputs": [],
   "source": [
    "r2 should be more \n",
    "mse & rmse low "
   ]
  },
  {
   "cell_type": "code",
   "execution_count": 22,
   "id": "e773deae-adea-4231-961b-6a234d56d96b",
   "metadata": {},
   "outputs": [
    {
     "data": {
      "image/png": "[encoded data removed]",
      "text/plain": [
       "<Figure size 640x480 with 1 Axes>"
      ]
     },
     "metadata": {},
     "output_type": "display_data"
    }
   ],
   "source": [
    "#9 Plot Actual vs. Predicted gold prices to visualize model performance.\n",
    "plt.scatter(y_test, y_pred, alpha=0.5)\n",
    "plt.plot([y_test.min(), y_test.max()], [y_test.min(), y_test.max()], 'r--')\n",
    "plt.xlabel(\"Actual Gold Prices\")\n",
    "plt.ylabel(\"Predicted Gold Prices\")\n",
    "plt.title(\"Actual vs Predicted\")\n",
    "plt.show()"
   ]
  },
  {
   "cell_type": "code",
   "execution_count": 24,
   "id": "cbbaeb8b-47f4-4358-9a37-bf78511a18c7",
   "metadata": {},
   "outputs": [
    {
     "name": "stdout",
     "output_type": "stream",
     "text": [
      "     Feature   Coefficient\n",
      "0       open  3.618257e-01\n",
      "1       high  3.618257e-01\n",
      "2        low -3.520350e-01\n",
      "3  adj_close  6.258093e-01\n",
      "4     volume -2.883189e-08\n"
     ]
    }
   ],
   "source": [
    "#10 Interpret the model coefficients. Which features have the most significant impact on gold price prediction\n",
    "\n",
    "coefficients = pd.DataFrame({\n",
    "    \"Feature\": X.columns,\n",
    "    \"Coefficient\": model.coef_\n",
    "})\n",
    "print(coefficients)"
   ]
  }
 ],
 "metadata": {
  "kernelspec": {
   "display_name": "Python 3 (ipykernel)",
   "language": "python",
   "name": "python3"
  },
  "language_info": {
   "codemirror_mode": {
    "name": "ipython",
    "version": 3
   },
   "file_extension": ".py",
   "mimetype": "text/x-python",
   "name": "python",
   "nbconvert_exporter": "python",
   "pygments_lexer": "ipython3",
   "version": "3.12.7"
  }
 },
 "nbformat": 4,
 "nbformat_minor": 5
}
