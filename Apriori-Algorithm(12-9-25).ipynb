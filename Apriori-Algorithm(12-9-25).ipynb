{
 "cells": [
  {
   "cell_type": "code",
   "execution_count": 8,
   "id": "e6db5548-38f0-4b2b-a0b6-b211c6592367",
   "metadata": {},
   "outputs": [],
   "source": [
    "# Apriori Algorithm\n",
    "import pandas as pd\n",
    "from mlxtend.preprocessing import TransactionEncoder\n",
    "from mlxtend.frequent_patterns import apriori, association_rules\n",
    "# mlxtend : Machine Learning Extensions\n",
    "#TransactionEncoder : Converting transaction data into a format suitable for analysis"
   ]
  },
  {
   "cell_type": "code",
   "execution_count": 20,
   "id": "e326cc0e-26d7-4267-bfa2-3d920209aed2",
   "metadata": {},
   "outputs": [
    {
     "name": "stdout",
     "output_type": "stream",
     "text": [
      "Transaction DataFrame:\n",
      "   coffee  donut  muffin  sandwich\n",
      "0    True   True   False      True\n",
      "1    True   True   False     False\n",
      "2    True  False   False      True\n",
      "3    True  False    True     False\n",
      "4   False   True    True     False\n"
     ]
    }
   ],
   "source": [
    "#1. What does the dataset represent? List all the transactions clearly.\n",
    "dataset = [\n",
    "    ['coffee','donut','sandwich'],\n",
    "    ['coffee','donut'],\n",
    "    ['coffee','sandwich'],\n",
    "    ['coffee','muffin'],\n",
    "    ['donut','muffin']\n",
    "]\n",
    "\n",
    "#2. Convert the dataset into a one-hot encoded DataFrame. What does each column and row represent?\n",
    "te = TransactionEncoder()\n",
    "te_ary = te.fit(dataset).transform(dataset)\n",
    "df = pd.DataFrame(te_ary, columns=te.columns_)\n",
    "print(\"Transaction DataFrame:\")\n",
    "print(df)"
   ]
  },
  {
   "cell_type": "code",
   "execution_count": 21,
   "id": "70a889a5-9141-436b-9327-1bd6c2b3fa0b",
   "metadata": {},
   "outputs": [
    {
     "name": "stdout",
     "output_type": "stream",
     "text": [
      "\n",
      "Frequent Itemsets:\n",
      "   support            itemsets\n",
      "0      0.8            (coffee)\n",
      "1      0.6             (donut)\n",
      "2      0.4            (muffin)\n",
      "3      0.4          (sandwich)\n",
      "4      0.4     (donut, coffee)\n",
      "5      0.4  (sandwich, coffee)\n"
     ]
    }
   ],
   "source": [
    "#3. With minimum support = 0.4, identify all frequent itemsets. Show their support values.\n",
    "frequent_itemsets = apriori(df, min_support=0.4, use_colnames=True)\n",
    "print(\"\\nFrequent Itemsets:\")\n",
    "print(frequent_itemsets)"
   ]
  },
  {
   "cell_type": "code",
   "execution_count": 22,
   "id": "61d33dd7-b73a-4cb7-b5d8-9c3b42a00a81",
   "metadata": {},
   "outputs": [
    {
     "name": "stdout",
     "output_type": "stream",
     "text": [
      "\n",
      "Association Rules:\n",
      "  antecedents consequents  support  confidence      lift\n",
      "0     (donut)    (coffee)      0.4    0.666667  0.833333\n",
      "1  (sandwich)    (coffee)      0.4    1.000000  1.250000\n"
     ]
    }
   ],
   "source": [
    "#4. From the frequent itemsets, generate all possible association rules. List their support, confidence, and lift.\n",
    "rules = association_rules(frequent_itemsets, metric=\"confidence\", min_threshold=0.6)\n",
    "\n",
    "print(\"\\nAssociation Rules:\")\n",
    "print(rules[['antecedents', 'consequents', 'support', 'confidence', 'lift']])"
   ]
  },
  {
   "cell_type": "code",
   "execution_count": 23,
   "id": "489d6c59-d69a-461a-b071-aa3ea153215d",
   "metadata": {},
   "outputs": [
    {
     "name": "stdout",
     "output_type": "stream",
     "text": [
      "{sandwich,coffee}\n"
     ]
    }
   ],
   "source": [
    "#5. Which rules satisfy both minimum support (0.4) and minimum confidence (0.6)?\n",
    "print(\"{sandwich,coffee}\")"
   ]
  },
  {
   "cell_type": "code",
   "execution_count": 24,
   "id": "7b8481f9-0758-44da-8dd0-9df71b6b2af6",
   "metadata": {},
   "outputs": [
    {
     "name": "stdout",
     "output_type": "stream",
     "text": [
      "{sandwich,coffee}\n",
      "support = 0.4, confidence = 1.0, lift = 1.25\n",
      "If a customer buys a sandwich, they are very likely to also buy coffee.\n"
     ]
    }
   ],
   "source": [
    "# 6. Interpret one strong rule in words. For example: If a customer buys X, they are likely to buy Y.\n",
    "print(\"\"\"{sandwich,coffee}\n",
    "support = 0.4, confidence = 1.0, lift = 1.25\n",
    "If a customer buys a sandwich, they are very likely to also buy coffee.\"\"\")"
   ]
  },
  {
   "cell_type": "code",
   "execution_count": 25,
   "id": "1985f07d-bd95-44ba-be26-ce6bbb9a800d",
   "metadata": {},
   "outputs": [
    {
     "name": "stdout",
     "output_type": "stream",
     "text": [
      "\n",
      "Lowering min_support (ex, from 0.4 to 0.2) allows more items to qualify , so more rules are generated, including weaker ones.\n",
      "Increasing min_support (ex, from 0.4 to 0.6) filters out many itemsets, so fewer rules remain, but they are stronger/common patterns.\n",
      "Lowering min_threshold (confidence) allows more rules (even weak ones).\n",
      "Increasing min_threshold (confidence) results in fewer rules, but only highly reliable ones remain.\n"
     ]
    }
   ],
   "source": [
    "# 7. How does changing min_support or min_conf affect the number of rules generated? \n",
    "print(\"\"\"\n",
    "Lowering min_support (ex, from 0.4 to 0.2) allows more items to qualify , so more rules are generated, including weaker ones.\n",
    "Increasing min_support (ex, from 0.4 to 0.6) filters out many itemsets, so fewer rules remain, but they are stronger/common patterns.\n",
    "Lowering min_threshold (confidence) allows more rules (even weak ones).\n",
    "Increasing min_threshold (confidence) results in fewer rules, but only highly reliable ones remain.\"\"\")"
   ]
  },
  {
   "cell_type": "code",
   "execution_count": 26,
   "id": "3c6a6818-dab3-475b-8367-28a00e22f637",
   "metadata": {},
   "outputs": [
    {
     "name": "stdout",
     "output_type": "stream",
     "text": [
      "\n",
      "Lift = 1 → No real association, independent.\n",
      "Lift < 1 → Negative association (rarely).\n",
      "Lift > 1 → Positive association.\n"
     ]
    }
   ],
   "source": [
    "# 8. Explain why Lift > 1 indicates a good association rule.\n",
    "print(\"\"\"\n",
    "Lift = 1 → No real association, independent.\n",
    "Lift < 1 → Negative association (rarely).\n",
    "Lift > 1 → Positive association.\"\"\")"
   ]
  },
  {
   "cell_type": "code",
   "execution_count": null,
   "id": "d639a192-17f8-45b9-aee6-9f15101361e8",
   "metadata": {},
   "outputs": [],
   "source": []
  }
 ],
 "metadata": {
  "kernelspec": {
   "display_name": "Python 3 (ipykernel)",
   "language": "python",
   "name": "python3"
  },
  "language_info": {
   "codemirror_mode": {
    "name": "ipython",
    "version": 3
   },
   "file_extension": ".py",
   "mimetype": "text/x-python",
   "name": "python",
   "nbconvert_exporter": "python",
   "pygments_lexer": "ipython3",
   "version": "3.12.7"
  }
 },
 "nbformat": 4,
 "nbformat_minor": 5
}
